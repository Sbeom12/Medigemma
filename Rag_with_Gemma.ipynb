{
  "cells": [
    {
      "cell_type": "code",
      "execution_count": 2,
      "metadata": {
        "colab": {
          "base_uri": "https://localhost:8080/"
        },
        "id": "R1nkKfEUepiH",
        "outputId": "a3923c0f-cc7f-4092-b2a4-6c567f0ccf96"
      },
      "outputs": [
        {
          "name": "stdout",
          "output_type": "stream",
          "text": [
            "\u001b[?25l     \u001b[90m━━━━━━━━━━━━━━━━━━━━━━━━━━━━━━━━━━━━━━━━\u001b[0m \u001b[32m0.0/526.8 kB\u001b[0m \u001b[31m?\u001b[0m eta \u001b[36m-:--:--\u001b[0m\r\u001b[2K     \u001b[91m━━━\u001b[0m\u001b[91m╸\u001b[0m\u001b[90m━━━━━━━━━━━━━━━━━━━━━━━━━━━━━━━━━━━━\u001b[0m \u001b[32m51.2/526.8 kB\u001b[0m \u001b[31m1.3 MB/s\u001b[0m eta \u001b[36m0:00:01\u001b[0m\r\u001b[2K     \u001b[91m━━━━━━━━━━━━━━━━━━━━━━━━━━━━━\u001b[0m\u001b[91m╸\u001b[0m\u001b[90m━━━━━━━━━━\u001b[0m \u001b[32m389.1/526.8 kB\u001b[0m \u001b[31m5.6 MB/s\u001b[0m eta \u001b[36m0:00:01\u001b[0m\r\u001b[2K     \u001b[90m━━━━━━━━━━━━━━━━━━━━━━━━━━━━━━━━━━━━━━━━\u001b[0m \u001b[32m526.8/526.8 kB\u001b[0m \u001b[31m6.2 MB/s\u001b[0m eta \u001b[36m0:00:00\u001b[0m\n",
            "\u001b[2K     \u001b[90m━━━━━━━━━━━━━━━━━━━━━━━━━━━━━━━━━━━━━━━━\u001b[0m \u001b[32m2.4/2.4 MB\u001b[0m \u001b[31m50.6 MB/s\u001b[0m eta \u001b[36m0:00:00\u001b[0m\n",
            "\u001b[2K     \u001b[90m━━━━━━━━━━━━━━━━━━━━━━━━━━━━━━━━━━━━━━━━\u001b[0m \u001b[32m92.0/92.0 kB\u001b[0m \u001b[31m13.8 MB/s\u001b[0m eta \u001b[36m0:00:00\u001b[0m\n",
            "\u001b[2K     \u001b[90m━━━━━━━━━━━━━━━━━━━━━━━━━━━━━━━━━━━━━━━━\u001b[0m \u001b[32m60.8/60.8 kB\u001b[0m \u001b[31m7.8 MB/s\u001b[0m eta \u001b[36m0:00:00\u001b[0m\n",
            "\u001b[2K     \u001b[90m━━━━━━━━━━━━━━━━━━━━━━━━━━━━━━━━━━━━━━━━\u001b[0m \u001b[32m41.3/41.3 kB\u001b[0m \u001b[31m5.3 MB/s\u001b[0m eta \u001b[36m0:00:00\u001b[0m\n",
            "\u001b[2K     \u001b[90m━━━━━━━━━━━━━━━━━━━━━━━━━━━━━━━━━━━━━━━━\u001b[0m \u001b[32m6.8/6.8 MB\u001b[0m \u001b[31m83.7 MB/s\u001b[0m eta \u001b[36m0:00:00\u001b[0m\n",
            "\u001b[2K     \u001b[90m━━━━━━━━━━━━━━━━━━━━━━━━━━━━━━━━━━━━━━━━\u001b[0m \u001b[32m60.1/60.1 kB\u001b[0m \u001b[31m9.5 MB/s\u001b[0m eta \u001b[36m0:00:00\u001b[0m\n",
            "\u001b[2K     \u001b[90m━━━━━━━━━━━━━━━━━━━━━━━━━━━━━━━━━━━━━━━━\u001b[0m \u001b[32m106.1/106.1 kB\u001b[0m \u001b[31m14.2 MB/s\u001b[0m eta \u001b[36m0:00:00\u001b[0m\n",
            "\u001b[2K     \u001b[90m━━━━━━━━━━━━━━━━━━━━━━━━━━━━━━━━━━━━━━━━\u001b[0m \u001b[32m67.3/67.3 kB\u001b[0m \u001b[31m7.8 MB/s\u001b[0m eta \u001b[36m0:00:00\u001b[0m\n",
            "\u001b[?25h  Installing build dependencies ... \u001b[?25l\u001b[?25hdone\n",
            "  Getting requirements to build wheel ... \u001b[?25l\u001b[?25hdone\n",
            "  Preparing metadata (pyproject.toml) ... \u001b[?25l\u001b[?25hdone\n",
            "\u001b[2K     \u001b[90m━━━━━━━━━━━━━━━━━━━━━━━━━━━━━━━━━━━━━━━━\u001b[0m \u001b[32m283.7/283.7 kB\u001b[0m \u001b[31m34.4 MB/s\u001b[0m eta \u001b[36m0:00:00\u001b[0m\n",
            "\u001b[2K     \u001b[90m━━━━━━━━━━━━━━━━━━━━━━━━━━━━━━━━━━━━━━━━\u001b[0m \u001b[32m1.6/1.6 MB\u001b[0m \u001b[31m77.5 MB/s\u001b[0m eta \u001b[36m0:00:00\u001b[0m\n",
            "\u001b[2K     \u001b[90m━━━━━━━━━━━━━━━━━━━━━━━━━━━━━━━━━━━━━━━━\u001b[0m \u001b[32m67.6/67.6 kB\u001b[0m \u001b[31m8.0 MB/s\u001b[0m eta \u001b[36m0:00:00\u001b[0m\n",
            "\u001b[2K     \u001b[90m━━━━━━━━━━━━━━━━━━━━━━━━━━━━━━━━━━━━━━━━\u001b[0m \u001b[32m142.5/142.5 kB\u001b[0m \u001b[31m20.6 MB/s\u001b[0m eta \u001b[36m0:00:00\u001b[0m\n",
            "\u001b[2K     \u001b[90m━━━━━━━━━━━━━━━━━━━━━━━━━━━━━━━━━━━━━━━━\u001b[0m \u001b[32m71.9/71.9 kB\u001b[0m \u001b[31m10.1 MB/s\u001b[0m eta \u001b[36m0:00:00\u001b[0m\n",
            "\u001b[2K     \u001b[90m━━━━━━━━━━━━━━━━━━━━━━━━━━━━━━━━━━━━━━━━\u001b[0m \u001b[32m75.6/75.6 kB\u001b[0m \u001b[31m11.3 MB/s\u001b[0m eta \u001b[36m0:00:00\u001b[0m\n",
            "\u001b[2K     \u001b[90m━━━━━━━━━━━━━━━━━━━━━━━━━━━━━━━━━━━━━━━━\u001b[0m \u001b[32m53.6/53.6 kB\u001b[0m \u001b[31m8.0 MB/s\u001b[0m eta \u001b[36m0:00:00\u001b[0m\n",
            "\u001b[2K     \u001b[90m━━━━━━━━━━━━━━━━━━━━━━━━━━━━━━━━━━━━━━━━\u001b[0m \u001b[32m46.0/46.0 kB\u001b[0m \u001b[31m6.2 MB/s\u001b[0m eta \u001b[36m0:00:00\u001b[0m\n",
            "\u001b[2K     \u001b[90m━━━━━━━━━━━━━━━━━━━━━━━━━━━━━━━━━━━━━━━━\u001b[0m \u001b[32m50.8/50.8 kB\u001b[0m \u001b[31m7.1 MB/s\u001b[0m eta \u001b[36m0:00:00\u001b[0m\n",
            "\u001b[2K     \u001b[90m━━━━━━━━━━━━━━━━━━━━━━━━━━━━━━━━━━━━━━━━\u001b[0m \u001b[32m58.3/58.3 kB\u001b[0m \u001b[31m7.5 MB/s\u001b[0m eta \u001b[36m0:00:00\u001b[0m\n",
            "\u001b[2K     \u001b[90m━━━━━━━━━━━━━━━━━━━━━━━━━━━━━━━━━━━━━━━━\u001b[0m \u001b[32m341.4/341.4 kB\u001b[0m \u001b[31m31.1 MB/s\u001b[0m eta \u001b[36m0:00:00\u001b[0m\n",
            "\u001b[2K     \u001b[90m━━━━━━━━━━━━━━━━━━━━━━━━━━━━━━━━━━━━━━━━\u001b[0m \u001b[32m3.4/3.4 MB\u001b[0m \u001b[31m63.4 MB/s\u001b[0m eta \u001b[36m0:00:00\u001b[0m\n",
            "\u001b[2K     \u001b[90m━━━━━━━━━━━━━━━━━━━━━━━━━━━━━━━━━━━━━━━━\u001b[0m \u001b[32m1.3/1.3 MB\u001b[0m \u001b[31m58.5 MB/s\u001b[0m eta \u001b[36m0:00:00\u001b[0m\n",
            "\u001b[2K     \u001b[90m━━━━━━━━━━━━━━━━━━━━━━━━━━━━━━━━━━━━━━━━\u001b[0m \u001b[32m130.2/130.2 kB\u001b[0m \u001b[31m13.7 MB/s\u001b[0m eta \u001b[36m0:00:00\u001b[0m\n",
            "\u001b[2K     \u001b[90m━━━━━━━━━━━━━━━━━━━━━━━━━━━━━━━━━━━━━━━━\u001b[0m \u001b[32m307.7/307.7 kB\u001b[0m \u001b[31m24.7 MB/s\u001b[0m eta \u001b[36m0:00:00\u001b[0m\n",
            "\u001b[2K     \u001b[90m━━━━━━━━━━━━━━━━━━━━━━━━━━━━━━━━━━━━━━━━\u001b[0m \u001b[32m47.2/47.2 kB\u001b[0m \u001b[31m6.1 MB/s\u001b[0m eta \u001b[36m0:00:00\u001b[0m\n",
            "\u001b[2K     \u001b[90m━━━━━━━━━━━━━━━━━━━━━━━━━━━━━━━━━━━━━━━━\u001b[0m \u001b[32m77.9/77.9 kB\u001b[0m \u001b[31m7.7 MB/s\u001b[0m eta \u001b[36m0:00:00\u001b[0m\n",
            "\u001b[2K     \u001b[90m━━━━━━━━━━━━━━━━━━━━━━━━━━━━━━━━━━━━━━━━\u001b[0m \u001b[32m86.8/86.8 kB\u001b[0m \u001b[31m13.4 MB/s\u001b[0m eta \u001b[36m0:00:00\u001b[0m\n",
            "\u001b[?25h  Building wheel for pypika (pyproject.toml) ... \u001b[?25l\u001b[?25hdone\n",
            "\u001b[31mERROR: pip's dependency resolver does not currently take into account all the packages that are installed. This behaviour is the source of the following dependency conflicts.\n",
            "spacy 3.7.4 requires typer<0.10.0,>=0.3.0, but you have typer 0.12.3 which is incompatible.\n",
            "weasel 0.3.4 requires typer<0.10.0,>=0.3.0, but you have typer 0.12.3 which is incompatible.\u001b[0m\u001b[31m\n",
            "\u001b[0m"
          ]
        }
      ],
      "source": [
        "%pip install -Uq chromadb"
      ]
    },
    {
      "cell_type": "markdown",
      "metadata": {
        "id": "ttp7nGwbBgsJ"
      },
      "source": [
        "# 데이터 불러오기\n"
      ]
    },
    {
      "cell_type": "code",
      "execution_count": 1,
      "metadata": {
        "colab": {
          "base_uri": "https://localhost:8080/"
        },
        "id": "7gvInwOKarar",
        "outputId": "2831b71d-17b2-4ffb-bbdc-814d70435060"
      },
      "outputs": [
        {
          "name": "stdout",
          "output_type": "stream",
          "text": [
            "Mounted at /content/drive\n"
          ]
        }
      ],
      "source": [
        "from google.colab import drive\n",
        "drive.mount('/content/drive')"
      ]
    },
    {
      "cell_type": "code",
      "execution_count": 3,
      "metadata": {
        "id": "hNE_N2PBfo1B"
      },
      "outputs": [],
      "source": [
        "import os\n",
        "import json\n",
        "json_directory = \"/content/drive/MyDrive/hidoc_qna/json\"\n",
        "data = []\n",
        "\n",
        "for filename in os.listdir(json_directory):\n",
        "    if filename.endswith(\".json\"):\n",
        "        file_path = os.path.join(json_directory, filename)\n",
        "        with open(file_path, \"r\") as file:\n",
        "            json_data = json.load(file)\n",
        "            json_data['question_id'] = filename.split(\"_\")[-1].split(\".\")[0]\n",
        "            data.append(json_data)"
      ]
    },
    {
      "cell_type": "code",
      "execution_count": 4,
      "metadata": {
        "id": "yQyPyDHmpbeF"
      },
      "outputs": [],
      "source": [
        "from chromadb.utils import embedding_functions\n",
        "default_ef = embedding_functions.DefaultEmbeddingFunction()"
      ]
    },
    {
      "cell_type": "code",
      "execution_count": 12,
      "metadata": {
        "id": "YrcrqRzWepiI"
      },
      "outputs": [],
      "source": [
        "import chromadb\n",
        "# 크로마 DB 클라이언트 생성\n",
        "chroma_client = chromadb.Client()\n",
        "collection = chroma_client.create_collection(name=\"question_collection\",embedding_function=default_ef)"
      ]
    },
    {
      "cell_type": "code",
      "execution_count": 6,
      "metadata": {
        "id": "PJF8BDKfmohK"
      },
      "outputs": [],
      "source": [
        "chroma_client.delete_collection(name=\"question_collection\")"
      ]
    },
    {
      "cell_type": "code",
      "execution_count": 7,
      "metadata": {
        "colab": {
          "base_uri": "https://localhost:8080/"
        },
        "id": "OsaT3lLIAj5d",
        "outputId": "d98bcd3d-7238-4f2d-e3f5-fec58cf9c6e6"
      },
      "outputs": [
        {
          "data": {
            "text/plain": [
              "1772"
            ]
          },
          "execution_count": 7,
          "metadata": {},
          "output_type": "execute_result"
        }
      ],
      "source": [
        "len(data)"
      ]
    },
    {
      "cell_type": "code",
      "execution_count": 8,
      "metadata": {
        "id": "fYrNBJDNAhow"
      },
      "outputs": [],
      "source": [
        "questions = []\n",
        "question_ids = []\n",
        "question_metadatas =[]\n",
        "check_duplicate = set()\n",
        "for item in data:\n",
        "    question_text = item['question']['content']\n",
        "    question_id = item['question_id']\n",
        "    if question_id not in check_duplicate:\n",
        "      questions.append(question_text)\n",
        "      question_ids.append(question_id)\n",
        "      check_duplicate.add(question_id)\n",
        "      question_metadata = {\n",
        "        'title': item['question']['header']['title'],\n",
        "        'date': item['question']['header']['date'],\n",
        "        'tags': ','.join(item['question']['header']['smart_tags'])\n",
        "      }\n",
        "      question_metadatas.append(question_metadata)"
      ]
    },
    {
      "cell_type": "code",
      "execution_count": 9,
      "metadata": {
        "colab": {
          "base_uri": "https://localhost:8080/"
        },
        "id": "F44EEFe2k0RB",
        "outputId": "b6275d6f-8a62-484f-8a4e-ee26499e3f31"
      },
      "outputs": [
        {
          "data": {
            "text/plain": [
              "('엉덩이 꼬리뼈맞나 암튼 거기쪽에 한 1년전쯤부터있었던것같은데 커진지 작아진건지 잘모르겠거든요 근데 커진것같아요 요새 가만히 있어도 허리아프던데 이것때문인가해서요 약간 허리가 약해진 느낌이랄까 학생이라 앉아있는 시간이 많거든요 한 1주전인가 그쯤에 움직일때 엄청아프던데 지금은 안그래요 암튼 모양은 길죽하고 저번에 꽉눌렀을때 약간 위로 움직인것같은데 기분탓일수도 있어요 암튼 꽤나 오래됐고 걍 신경 안쓰며 살았는데 유튜브에서 골육종 연육종인가 그런게 있다길래 걱정되네요 겉으론 안보이고 눌러도 안아픕니다 그냥 애초에 꼬리뼈에 물렁뼈가 있나요? 그건아닐것같은데 육종암이 골반 척추라는데 꼬리뼈에도 저처럼 가능한가요 그리고 앞서말한 증상위험한건가요?신경쓰이네요 움직일때 막 아프거나 그러진 않아요 아 그리고 오랜만에 몸무게 측정해보니 3키로 가량 빠져있는데 원래잘 안빠지거든요 이것도 살짝 걱정이 되네요 근데 학교에서 공복상태로 몸무게 측정했을때 딱 그러긴했어요',\n",
              " 'C0000886158',\n",
              " {'title': '엉덩이 꼬리뼈 멍울', 'date': '2024.05.06', 'tags': '항문,뼈,외과'})"
            ]
          },
          "execution_count": 9,
          "metadata": {},
          "output_type": "execute_result"
        }
      ],
      "source": [
        "questions[1], question_ids[1], question_metadatas[1]"
      ]
    },
    {
      "cell_type": "code",
      "execution_count": 10,
      "metadata": {
        "colab": {
          "base_uri": "https://localhost:8080/"
        },
        "id": "EbtIF-MEAoNj",
        "outputId": "80443bcf-9a87-4d0a-a834-eb6b6fe6d2a9"
      },
      "outputs": [
        {
          "data": {
            "text/plain": [
              "(1772, 1772)"
            ]
          },
          "execution_count": 10,
          "metadata": {},
          "output_type": "execute_result"
        }
      ],
      "source": [
        "len(questions), len(question_ids)"
      ]
    },
    {
      "cell_type": "code",
      "execution_count": 13,
      "metadata": {
        "id": "a6qIEDnXAvKY"
      },
      "outputs": [],
      "source": [
        "collection.add(\n",
        "    documents=questions[:100],\n",
        "    ids=question_ids[:100],\n",
        "    metadatas=question_metadatas[:100],\n",
        ")"
      ]
    },
    {
      "cell_type": "code",
      "execution_count": 14,
      "metadata": {
        "colab": {
          "base_uri": "https://localhost:8080/"
        },
        "id": "ozGyfQHXepiJ",
        "outputId": "5672b24b-88b1-4ebc-ccc6-5f3a0448c9ee"
      },
      "outputs": [
        {
          "data": {
            "text/plain": [
              "{'ids': [['C0000886058']],\n",
              " 'distances': [[0.4607261121273041]],\n",
              " 'metadatas': [[{'date': '2024.05.05',\n",
              "    'tags': '뼈,발목,정형외과,통증',\n",
              "    'title': '발목 뼈 소리 후 통증'}]],\n",
              " 'embeddings': None,\n",
              " 'documents': [['잘못된 자세로 있다 발목 뼈 소리 후 통증이 생겼어요 이후 뼈소리도 좀 나네요 ? 왜 그런거죠 ㅠㅠㅠㅠㅠ']],\n",
              " 'uris': None,\n",
              " 'data': None}"
            ]
          },
          "execution_count": 14,
          "metadata": {},
          "output_type": "execute_result"
        }
      ],
      "source": [
        "results = collection.query(\n",
        "    query_texts='어깨가 너무 자주 아파요',\n",
        "    n_results=1,\n",
        ")\n",
        "results"
      ]
    },
    {
      "cell_type": "code",
      "execution_count": 15,
      "metadata": {
        "colab": {
          "base_uri": "https://localhost:8080/"
        },
        "id": "V-z7y5xukVGp",
        "outputId": "009ee2dc-d751-4d1f-d710-840472f965f7"
      },
      "outputs": [
        {
          "name": "stdout",
          "output_type": "stream",
          "text": [
            "유사한 질문 1: 잘못된 자세로 있다 발목 뼈 소리 후 통증이 생겼어요 이후 뼈소리도 좀 나네요 ? 왜 그런거죠 ㅠㅠㅠㅠㅠ\n",
            "질문 ID: C0000886058\n",
            "메타데이터:\n",
            "  제목: 발목 뼈 소리 후 통증\n",
            "  날짜: 2024.05.05\n",
            "  태그: 뼈,발목,정형외과,통증\n",
            "답변:\n",
            "  - 골절보다는 힘줄의 문제로 소리가 나는 경우가 많으며인대가 파열되거나 하는 경우는 드뭅니다.통증이 오랜 기간 지속되면 인대 손상의 가능성도 있습니다.\n",
            "  - 발목에서 소리가 나면서 이후 통증이 발생한 상태로 이해됩니다. 불편한 자세에서 발생한 증상이니 근육이나 인대의 부상부터 의심해보아야 하겠습니다. 통증이 지속되거나 부어오르고 붉어지는 등의 변화를 보이면 정형외과를 방문해 진료받으시기 바랍니다.\n",
            "---\n"
          ]
        }
      ],
      "source": [
        "results = collection.query(\n",
        "    query_texts='어깨가 너무 자주 아파요',\n",
        "    n_results=1,\n",
        ")\n",
        "\n",
        "for i, result in enumerate(results['documents'][0]):\n",
        "    question_id = results['ids'][0][i]\n",
        "    question_metadata = results['metadatas'][0][i]\n",
        "\n",
        "    print(f\"유사한 질문 {i+1}: {result}\")\n",
        "    print(f\"질문 ID: {question_id}\")\n",
        "    print(f\"메타데이터:\")\n",
        "    print(f\"  제목: {question_metadata['title']}\")\n",
        "    print(f\"  날짜: {question_metadata['date']}\")\n",
        "    print(f\"  태그: {question_metadata['tags']}\")\n",
        "\n",
        "    # 원본 데이터에서 해당 질문의 답변 검색\n",
        "    for item in data:\n",
        "        if item['question_id'] == question_id:\n",
        "            answers = item['answers']\n",
        "            print(f\"답변:\")\n",
        "            for answer in answers:\n",
        "                answer_cnt = ''.join(answer['content'].split('\\n')[1:])\n",
        "                print(f\"  - {answer_cnt}\")\n",
        "            break\n",
        "\n",
        "    print(\"---\")\n"
      ]
    },
    {
      "cell_type": "code",
      "execution_count": 17,
      "metadata": {
        "colab": {
          "base_uri": "https://localhost:8080/"
        },
        "id": "ERBV-OkSrLeM",
        "outputId": "a7122c7c-7887-4972-918c-f6e5593ffec2"
      },
      "outputs": [
        {
          "name": "stdout",
          "output_type": "stream",
          "text": [
            "\n",
            "[DOCS]\n",
            "골절보다는 힘줄의 문제로 소리가 나는 경우가 많으며인대가 파열되거나 하는 경우는 드뭅니다.통증이 오랜 기간 지속되면 인대 손상의 가능성도 있습니다.\n",
            "\n",
            "발목에서 소리가 나면서 이후 통증이 발생한 상태로 이해됩니다. 불편한 자세에서 발생한 증상이니 근육이나 인대의 부상부터 의심해보아야 하겠습니다. 통증이 지속되거나 부어오르고 붉어지는 등의 변화를 보이면 정형외과를 방문해 진료받으시기 바랍니다.\n",
            "\n",
            "전신 두드러기가 심한 상황이라 추정됩니다.일차적으로는 피부과가 가장 적합한 진료과이고, 타 진료과의 추가진료가 필요할 시 진료본 의사가 진료의뢰서를 작성해줄 것이라 예상됩니다. 우선 피부과를 방문해보시기 바랍니다.\n",
            "\n",
            "배를 꾹 누르면 콩닥콩닥 하는 소리는 심장 박동이 아니라 장기의 움직임입니다. 장기는 끊임없이 움직이면서 소화, 배설, 호흡 등 다양한 활동을 합니다. 따라서 배를 누르면 장기의 움직임이 느껴질 수 있습니다. 이는 정상적인 현상이므로 걱정하지 않으셔도 됩니다.\n",
            "\n",
            "배를 눌렀을 때 두근거리는 느낌을 받으시는 부위가 몸의 정중앙에 가깝다면 이는 복부대동맥의 박동을 느끼는 것이라 추정할 수 있습니다. 물론 마른 경우에만 느껴지고, 지방이 어느정도 쌓이면 박동을 느끼기는 어렵습니다. 또, 손끝의 박동을 배에서 느껴지는 박동이라 오해하는 경우도 있습니다.\n",
            "\n",
            "복부 장기의 움직임은 일반적으로는 느껴지지 않습니다. 만약 심장이 뛰는 것처럼 느껴진다면 복부 대동맥과 같은 혈관의 박동이 아닌지 확인이 필요합니다.\n",
            "\n",
            "너무 힘드시겠네요. 그래도  식욕이 있으시다는것은 없는것보다는 좋은 것 같습니다. 소화 잘되는 것을 찾아서 소량씩  드셔보셔요. 밀가루 우유  커피 이런것은  소화가 잘안될수 있어요\n",
            "\n",
            "상기증상이 지속된다면 위염 식도염 위궤양과 같은 위장관 질환과 담낭 질환에 대한 평가가필요하므로 위내시경과 복부 초음파 검사가 도움이 되니 소화기 내과 진료를 보실 것을 권해드립니다.답변이 도움이 되었기를 바랍니다.\n",
            "\n",
            "소화불량이 지속적으로 나타난다면 소화기관에 질환이 있어서 나타나는 증상은 아닌지 확인이 필요할 수 있습니다. 위장염이나 식도염과 같은 질환, 위궤양이나 십이지장 궤양, 담석으로 인한 증상 등 의심할 질환이 여럿 있으니 내과 진료를 받아보시는게 좋겠습니다.\n",
            "\n",
            "#요약많이 먹었거나 소화불량이 있는데도 계속 배가 고픈 것은 대표적인 가짜 배고픔인데,보통 피로, 스트레스 등이 원인입니다.체내 에너지원이 부족해서 나타나는 것이 아닌스트레스로 인한 호르몬 불균형 때문에 초래되는 것입니다.감정적으로 우울하고, 업무나 공부 등으로 스트레스 쌓이면일명 행복 호르몬이라 불리는 신경전달물질인 세로토닌 수치가 떨어지면몸은 세로토닌 분비를 늘리기 위해뇌로 배고프다는 신호를 보내 당을 먹도록 하게 되는데,당은 우리 몸에서 가장 먼저 빠르게 쓰이는 에너지원으로세로토닌 분비를 늘리는 역할도 하기 때문입니다.건승하세요.\n",
            "\n",
            "상기증상이 지속된다면 위염 식도염 위궤양과 같은 위장관 질환과 담낭 질환에 대한 평가가필요하므로 위내시경과 복부 초음파 검사가 도움이 되니 소화기 내과 진료를 보실 것을 권해드립니다.답변이 도움이 되었기를 바랍니다.\n",
            "\n",
            "먹을 것을 보면 우리 몸에서 식욕을 느끼게 하는 호르몬이 분비되므로 먹고싶다는 생각이 들 수는 있지만, 소화기계 질환이 있으면 소화불량과 같은 증상이 음식을 드실 때마다 나타날 수 있습니다. 위장, 십이지장, 담낭 등에 대한 진료가 필요하겠으니 가까운 내과를 방문해보시기 바랍니다.\n",
            "\n",
            "#요약스트레스도 한 몫하게 됩니다.체내 에너지원이 부족해서 나타나는 것이 아닌스트레스로 인한 호르몬 불균형 때문에 초래되는 것입니다.감정적으로 우울하고, 업무나 공부 등으로 스트레스 쌓이면일명 행복 호르몬이라 불리는 신경전달물질인 세로토닌 수치가 떨어지면몸은 세로토닌 분비를 늘리기 위해뇌로 배고프다는 신호를 보내 당을 먹도록 하게 되는데,당은 우리 몸에서 가장 먼저 빠르게 쓰이는 에너지원으로세로토닌 분비를 늘리는 역할도 하기 때문입니다.건승하세요\n",
            "\n",
            "\n",
            "\n",
            "[EXPERT INFO]\n",
            "뼈 전문의\n",
            "발목 전문의\n",
            "정형외과 전문의\n",
            "통증 전문의\n",
            "\n",
            "\n",
            "[INSTRUCTION]\n",
            "위의 [DOCS]에 있는 문서 내용을 참조하여 아래 사용자의 질문에 답변해주세요. 답변은 [EXPERT INFO]에 명시된 전문의 관점에서 제공해주세요.\n",
            "\n",
            "---\n",
            "\n",
            "user: 어깨가 너무 아파요\n",
            "assistant:\n",
            "\n"
          ]
        }
      ],
      "source": [
        "# 유사한 질문 검색\n",
        "search_results = collection.query(\n",
        "    query_texts=\"어깨가 너무 자주 아파요\",\n",
        "    n_results=5,\n",
        ")\n",
        "\n",
        "docs_string = \"\"\n",
        "user_question = \"어깨가 너무 아파요\"\n",
        "for i, result in enumerate(search_results['documents'][0]):\n",
        "    question_id = search_results['ids'][0][i]\n",
        "    # 원본 데이터에서 해당 질문의 답변 검색\n",
        "    for item in data:\n",
        "        if item['question_id'] == question_id:\n",
        "            answers = item['answers']\n",
        "            for answer in answers:\n",
        "                answer_cnt = ''.join(answer['content'].split('\\n')[1:])\n",
        "                docs_string += answer_cnt + \"\\n\\n\"\n",
        "            break\n",
        "\n",
        "# 메타데이터의 태그를 활용하여 전문의 정보 생성\n",
        "tags = search_results['metadatas'][0][0]['tags']\n",
        "expert_info = \"\"\n",
        "for tag in tags.split(','):\n",
        "    expert_info += f\"{tag} 전문의\\n\"\n",
        "\n",
        "# 프롬프트 생성\n",
        "prompt = f\"\"\"\n",
        "[DOCS]\n",
        "{docs_string}\n",
        "\n",
        "[EXPERT INFO]\n",
        "{expert_info}\n",
        "\n",
        "[INSTRUCTION]\n",
        "위의 [DOCS]에 있는 문서 내용을 참조하여 아래 사용자의 질문에 답변해주세요. 답변은 [EXPERT INFO]에 명시된 전문의 관점에서 제공해주세요.\n",
        "\n",
        "---\n",
        "\n",
        "user: {user_question}\n",
        "assistant:\n",
        "\"\"\"\n",
        "print(prompt)"
      ]
    },
    {
      "cell_type": "code",
      "execution_count": 18,
      "metadata": {
        "id": "aWoWmG4JD4Ut"
      },
      "outputs": [],
      "source": [
        "import requests"
      ]
    },
    {
      "cell_type": "code",
      "execution_count": 19,
      "metadata": {
        "id": "tsY2ceiA_a9A"
      },
      "outputs": [],
      "source": [
        "datas = {\n",
        "    \"model\" : \"gemma:7b\",\n",
        "    \"messages\" : [\n",
        "        {\n",
        "            \"role\" : \"user\",\n",
        "            \"content\" : prompt\n",
        "        }\n",
        "    ],\n",
        "    \"stream\" : False\n",
        "}"
      ]
    },
    {
      "cell_type": "code",
      "execution_count": 20,
      "metadata": {
        "id": "iijZcTKj_h2r"
      },
      "outputs": [],
      "source": [
        "res = requests.post('http://koock.iptime.org:11434/api/chat',json=datas, stream=False)"
      ]
    },
    {
      "cell_type": "code",
      "execution_count": 21,
      "metadata": {
        "colab": {
          "base_uri": "https://localhost:8080/"
        },
        "id": "hRDmljnz_kbP",
        "outputId": "2c3324fa-52a0-43fb-a742-2696b16448cf"
      },
      "outputs": [
        {
          "name": "stdout",
          "output_type": "stream",
          "text": [
            "**답변:**\n",
            "\n",
            "어깨가 너무 아파는 증상은 다양한 원인으로 발생할 수 있습니다. 위의 문서에서 언급된 내용에 따라 가능한 원인 중 하나는 인대 손상일 수 있습니다. 통증이 지속되거나 부어오르고 붉어지는 등의 변화를 보이면 정형외과 전문의를 방문하여 진료받는 것이 좋습니다.\n",
            "\n",
            "**전문의 추천:**\n",
            "\n",
            "* 정형외과 전문의를 방문하여 인대 손상 가능성을 확인하고 치료를 받습니다.\n",
            "* 통증 완화를 위해 물리치료나 약물 치료 등의 관리도 필요합니다.\n",
            "\n",
            "**참고:**\n",
            "\n",
            "* 위의 문서에 언급된 내용은 일반적인 정보이며, 개인의 건강 상태 및 질병의 정확한 진단은 전문의에게 상담해야 합니다.\n"
          ]
        }
      ],
      "source": [
        "import json\n",
        "response_dict = json.loads(res.text)\n",
        "content = response_dict[\"message\"][\"content\"]\n",
        "print(content)"
      ]
    }
  ],
  "metadata": {
    "colab": {
      "provenance": []
    },
    "kernelspec": {
      "display_name": "Python 3",
      "language": "python",
      "name": "python3"
    },
    "language_info": {
      "codemirror_mode": {
        "name": "ipython",
        "version": 3
      },
      "file_extension": ".py",
      "mimetype": "text/x-python",
      "name": "python",
      "nbconvert_exporter": "python",
      "pygments_lexer": "ipython3",
      "version": "3.10.12"
    },
    "orig_nbformat": 4
  },
  "nbformat": 4,
  "nbformat_minor": 0
}
